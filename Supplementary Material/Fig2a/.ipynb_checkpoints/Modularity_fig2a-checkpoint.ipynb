{
 "cells": [
  {
   "cell_type": "code",
   "execution_count": 1,
   "id": "361b0832",
   "metadata": {},
   "outputs": [],
   "source": [
    "import numpy as np\n",
    "import torch\n",
    "import networkx as nx\n",
    "import difflib\n",
    "import matplotlib\n",
    "import seaborn as sns; sns.set()\n",
    "from matplotlib import colors\n",
    "from matplotlib import pyplot as plt\n",
    "import seaborn as sns\n",
    "import umap\n",
    "device = \"cpu\"\n",
    "#%matplotlib notebook\n",
    "%config InlineBackend.figure_format = 'retina'\n",
    "matplotlib.style.use('seaborn-white')\n",
    "sns.set_style(\"ticks\",{\"xtick.major.size\":8, \"ytick.major.size\":8})\n",
    "\n",
    "import networkx as nx\n",
    "#import networkx.algorithms.community as nx_comm\n",
    "import community\n",
    "\n",
    "# Define nonlinear activation function\n",
    "def f(x): # nonlinear conversion function to binary\n",
    "    return x.sigmoid()#tanh().add(1).div(2)\n"
   ]
  },
  {
   "cell_type": "code",
   "execution_count": 2,
   "id": "53c0259c",
   "metadata": {},
   "outputs": [
    {
     "name": "stdout",
     "output_type": "stream",
     "text": [
      "[0.7998483738434682, 0.7998234007912064, 0.7999630049088298, 0.7998201338148427, 0.7998777457560683, 0.7998111651180387, 0.7999776042104084, 0.7998823707395515, 0.7999778517544094, 0.7998943545280356]\n",
      "[0.6769129277419854, 0.6787580020045274, 0.6753697606578072, 0.6787538522890657, 0.6768189291174258, 0.6774182405805459, 0.6761922806009646, 0.6792081260364842, 0.6740037037694815, 0.6784681395611427]\n",
      "[0.5634588300387304, 0.5665960507823935, 0.5610061250212328, 0.5660677774822733, 0.5661456714370743, 0.5669181808708433, 0.5703735852337251, 0.5649448222701415, 0.563802438670344, 0.5660795104923255]\n",
      "[0.4677104280379201, 0.46047664008072453, 0.46243631165267657, 0.4681392196119222, 0.4650645935572645, 0.46311732065001987, 0.46388767346938775, 0.4632144812403173, 0.46738112324633674, 0.46156596376267295]\n",
      "[0.36664767043705754, 0.3655043209876543, 0.3674718406934203, 0.370396402996371, 0.3714789931022127, 0.3705709384055133, 0.3692863537613821, 0.36790862009126707, 0.3758248927838667, 0.3693454171437443]\n",
      "[0.18815213396387523, 0.17645286465814422, 0.1877561042552009, 0.18643946103856568, 0.18868164062499998, 0.185665343758378, 0.16704476302732932, 0.18164177173620993, 0.19754253308128544, 0.18345408717130565]\n"
     ]
    }
   ],
   "source": [
    "N = 100       # No. of input nodes i.e. behaviours\n",
    "\n",
    "mean_mod=[]\n",
    "std_mod=[]\n",
    "for n in [1,2,3,4,5,8]:\n",
    "    all_mod=[]\n",
    "    for i in range(10):\n",
    "        #print(n)\n",
    "        y = torch.tensor(np.genfromtxt(\"exp_n{}/y_out_{}_{}_mod_n{}.csv\".format(n-1,i,N,n-1), delimiter=','), device=device).float()\n",
    "        y = y.detach().numpy()\n",
    "        G = nx.from_numpy_matrix(y)\n",
    "        communities = community.best_partition(G)\n",
    "        mod = community.modularity(communities, G)\n",
    "        #mod = nx_comm.modularity(G, nx_comm.label_propagation_communities(G), weight='weight', resolution=1)\n",
    "        all_mod.append(mod)\n",
    "    print(all_mod)\n",
    "    mean_mod.append(np.mean(all_mod))\n",
    "    std_mod.append(np.std(all_mod))"
   ]
  },
  {
   "cell_type": "code",
   "execution_count": 3,
   "id": "f8a74da7",
   "metadata": {},
   "outputs": [],
   "source": [
    "Rc_data = np.genfromtxt(fname=\"Fig2a.tsv\", delimiter=\"\\t\", skip_header=1) \n",
    "R_crit = []\n",
    "dR_crit = []\n",
    "for i in range(6):\n",
    "    R_crit.append(np.mean(Rc_data[:,i]))\n",
    "    dR_crit.append(np.std(Rc_data[:,i]))\n",
    "\n",
    "#mean_mod.reverse()\n"
   ]
  },
  {
   "cell_type": "code",
   "execution_count": 4,
   "id": "c5eaa6d0",
   "metadata": {},
   "outputs": [
    {
     "data": {
      "image/png": "[encoded data removed]",
      "text/plain": [
       "<Figure size 216x216 with 1 Axes>"
      ]
     },
     "metadata": {
      "image/png": {
       "height": 194,
       "width": 204
      }
     },
     "output_type": "display_data"
    }
   ],
   "source": [
    "plt.figure(figsize=(3,3))\n",
    "plt.errorbar(mean_mod, R_crit, yerr = dR_crit)\n",
    "plt.xlim([0.09, 0.82])\n",
    "plt.ylim([0, 45])\n",
    "plt.tick_params(axis=\"y\",direction=\"out\",length=4,width=1)\n",
    "plt.tick_params(axis=\"x\",direction=\"out\", length=4,width=1)\n",
    "plt.savefig('Mod.pdf')\n",
    "plt.show()"
   ]
  },
  {
   "cell_type": "code",
   "execution_count": 5,
   "id": "65e91c0f",
   "metadata": {},
   "outputs": [
    {
     "data": {
      "text/plain": [
       "[6.177080164708214e-05,\n",
       " 0.0015918068810141638,\n",
       " 0.002357440820798675,\n",
       " 0.0025448381198681044,\n",
       " 0.0027686811601981194,\n",
       " 0.007712899083509201]"
      ]
     },
     "execution_count": 5,
     "metadata": {},
     "output_type": "execute_result"
    }
   ],
   "source": [
    "std_mod\n"
   ]
  },
  {
   "cell_type": "code",
   "execution_count": 6,
   "id": "e17d82ff",
   "metadata": {},
   "outputs": [
    {
     "data": {
      "text/plain": [
       "[0.7998876005464858,\n",
       " 0.677190396235943,\n",
       " 0.5655392992299083,\n",
       " 0.46429937553092426,\n",
       " 0.36944354504024896,\n",
       " 0.18428307033152944]"
      ]
     },
     "execution_count": 6,
     "metadata": {},
     "output_type": "execute_result"
    }
   ],
   "source": [
    "mean_mod"
   ]
  },
  {
   "cell_type": "code",
   "execution_count": null,
   "id": "fba7cd89",
   "metadata": {},
   "outputs": [],
   "source": []
  }
 ],
 "metadata": {
  "kernelspec": {
   "display_name": "Python 3",
   "language": "python",
   "name": "python3"
  },
  "language_info": {
   "codemirror_mode": {
    "name": "ipython",
    "version": 3
   },
   "file_extension": ".py",
   "mimetype": "text/x-python",
   "name": "python",
   "nbconvert_exporter": "python",
   "pygments_lexer": "ipython3",
   "version": "3.8.5"
  },
  "varInspector": {
   "cols": {
    "lenName": 16,
    "lenType": 16,
    "lenVar": 40
   },
   "kernels_config": {
    "python": {
     "delete_cmd_postfix": "",
     "delete_cmd_prefix": "del ",
     "library": "var_list.py",
     "varRefreshCmd": "print(var_dic_list())"
    },
    "r": {
     "delete_cmd_postfix": ") ",
     "delete_cmd_prefix": "rm(",
     "library": "var_list.r",
     "varRefreshCmd": "cat(var_dic_list()) "
    }
   },
   "types_to_exclude": [
    "module",
    "function",
    "builtin_function_or_method",
    "instance",
    "_Feature"
   ],
   "window_display": true
  }
 },
 "nbformat": 4,
 "nbformat_minor": 5
}
